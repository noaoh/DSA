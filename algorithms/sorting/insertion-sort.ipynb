{
 "cells": [
  {
   "cell_type": "markdown",
   "metadata": {},
   "source": [
    "## Insertion Sort\n",
    "\n",
    "### Description\n",
    "Insertion sort works by removing one element from the list, and inserting it in the proper position in the list.  It repeats this operation for all items in the array.\n",
    "\n",
    "### Performance\n",
    "#### Best Case: O(N)\n",
    "If the array is already sorted, only the main loop runs.\n",
    "\n",
    "#### Average Case / Worst Case : O(N^2)\n",
    "When the array is in reversed order, every iteration of the inner loop will scan and shift through the sorted subsection of the array before inserting the next item.  It is assumed the array is not nearly sorted, thus the quadratic time complexity for the average case.\n",
    "\n",
    "### Usage\n",
    "Insertion sort is one of the fastest algorithms for sorting very small arrays (up to ten elements).  It is often used in divide-and-conquer sorts to sort the small arrays."
   ]
  },
  {
   "cell_type": "code",
   "execution_count": 7,
   "metadata": {
    "scrolled": false
   },
   "outputs": [],
   "source": [
    "import random\n",
    "\n",
    "def adjust(array,pos):\n",
    "    value = array[pos]\n",
    "    del array[pos]\n",
    "    while value < array[pos-1] and pos != 0:\n",
    "        pos -= 1\n",
    "\n",
    "    array.insert(pos,value)\n",
    "    \n",
    "def insertion_sort(array):\n",
    "    for x in range(1,len(array)):\n",
    "        adjust(array,x)\n",
    "\n",
    "    return array"
   ]
  },
  {
   "cell_type": "code",
   "execution_count": 11,
   "metadata": {},
   "outputs": [
    {
     "name": "stdout",
     "output_type": "stream",
     "text": [
      "[1, 2, 3, 4, 5, 6, 7, 8, 9, 10]\n",
      "[1, 2, 3, 4, 5, 6, 7, 8, 9, 10]\n",
      "[1, 2, 3, 4, 5, 6, 7, 8, 9, 10, 11, 12, 13, 14, 15, 16, 17, 18, 19, 20]\n"
     ]
    }
   ],
   "source": [
    "# Best Case Scenario\n",
    "arr1 = [*range(1,11)]\n",
    "print(insertion_sort(arr1))\n",
    "\n",
    "# Average Case Scenario\n",
    "random.shuffle(arr1)\n",
    "print(insertion_sort(arr1))\n",
    "\n",
    "# Worst Case Scenario\n",
    "arr2 = [*range(20,0,-1)]\n",
    "print(insertion_sort(arr2))"
   ]
  },
  {
   "cell_type": "code",
   "execution_count": null,
   "metadata": {},
   "outputs": [],
   "source": []
  },
  {
   "cell_type": "code",
   "execution_count": null,
   "metadata": {},
   "outputs": [],
   "source": []
  }
 ],
 "metadata": {
  "kernelspec": {
   "display_name": "Python 3",
   "language": "python",
   "name": "python3"
  },
  "language_info": {
   "codemirror_mode": {
    "name": "ipython",
    "version": 3
   },
   "file_extension": ".py",
   "mimetype": "text/x-python",
   "name": "python",
   "nbconvert_exporter": "python",
   "pygments_lexer": "ipython3",
   "version": "3.6.3"
  }
 },
 "nbformat": 4,
 "nbformat_minor": 2
}
