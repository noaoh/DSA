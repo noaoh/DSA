{
 "cells": [
  {
   "cell_type": "markdown",
   "metadata": {},
   "source": [
    "## Selection Sort\n",
    "### Description\n",
    "Selection Sort works by dividing an array into two portions: A sort portion, and an unsorted portion.  By moving the nth smallest item in the list to the nth position in the list, the sorted portion grows until it it encompasses the entire list.  \n",
    "\n",
    "### Performance\n",
    "#### Best Case / Average Case / Worst Case : O(N**2)\n",
    "Selecting the minimum requires scanning n element (which makes n - 1 comparisons) and then swapping it into the first position.  Selecting the minimum occurs ~n times, for a quadratic time complexity.\n",
    "\n",
    "#### Number of Swaps: O(N)\n",
    "\n",
    "#### Memory: O(N) swaps, O(1) auxiliary\n",
    "Only 1 piece is used at any time, which to store one of the values while swapping.\n",
    "\n",
    "### Usage\n",
    "Selection sort is useful when memory is limited, as it only performs O(n) swaps, and only uses O(1) space at any time"
   ]
  },
  {
   "cell_type": "code",
   "execution_count": 4,
   "metadata": {},
   "outputs": [],
   "source": [
    "def smallest_idx(array,offset):\n",
    "    return array.index(min(array[offset:]))\n",
    "\n",
    "def selection_sort(array):\n",
    "    for idx, val in enumerate(array):\n",
    "        smallest_index = smallest_idx(array,idx)\n",
    "        array[idx], array[smallest_index] = array[smallest_index], array[idx]\n",
    "\n",
    "    return array"
   ]
  },
  {
   "cell_type": "code",
   "execution_count": 5,
   "metadata": {},
   "outputs": [
    {
     "name": "stdout",
     "output_type": "stream",
     "text": [
      "[1, 2, 3, 4, 5, 6, 7, 8, 9, 10, 11, 12, 13, 14, 15]\n"
     ]
    }
   ],
   "source": [
    "import random\n",
    "# All Cases\n",
    "lst1 = [*range(1,16)]\n",
    "random.shuffle(lst1)\n",
    "print(selection_sort(lst1))"
   ]
  }
 ],
 "metadata": {
  "kernelspec": {
   "display_name": "Python 3",
   "language": "python",
   "name": "python3"
  },
  "language_info": {
   "codemirror_mode": {
    "name": "ipython",
    "version": 3
   },
   "file_extension": ".py",
   "mimetype": "text/x-python",
   "name": "python",
   "nbconvert_exporter": "python",
   "pygments_lexer": "ipython3",
   "version": "3.6.3"
  }
 },
 "nbformat": 4,
 "nbformat_minor": 2
}
