{
 "cells": [
  {
   "cell_type": "markdown",
   "metadata": {},
   "source": [
    "## Merge Sort\n",
    "### Description\n",
    "The merge sort works by dividing the list into n lists, each containing 1 element (which is considered sorted), and then merging them until only one list remains.\n",
    "\n",
    "### Performance\n",
    "#### Best / Average / Worst Case: O(N log N)\n",
    "The list is divided into sublists until each list has one element.  This takes log(N) iterations, and each iteration takes exactly O(N) because the total size of the array is still n.\n",
    "\n",
    "#### Memory : O(n) Auxiliary Space\n",
    "\n",
    "### Usage\n",
    "Most implementations of merge sort are stable, which means identical elements stay in the same order they appeared in the input.  This is useful when you have one attribute in a specific order, and are going to order by another attribute.  Merge Sort is useful for operating on data structures that aren't normal arrays (i.e. linked lists, huge files that can't fit in memory, etc) because it requires sequential access, not random access."
   ]
  },
  {
   "cell_type": "code",
   "execution_count": null,
   "metadata": {},
   "outputs": [],
   "source": [
    "def merge(left, right):\n",
    "    result = []\n",
    "\n",
    "    while len(left) != 0 and len(right) != 0:\n",
    "        if left[0] <= right[0]:\n",
    "            result.append(left.pop(0))\n",
    "\n",
    "        else:\n",
    "            result.append(right.pop(0))\n",
    "\n",
    "    while len(left) != 0:\n",
    "        result.append(left.pop(0))\n",
    "\n",
    "    while len(right) != 0:\n",
    "        result.append(right.pop(0))\n",
    "\n",
    "    return result\n",
    "\n",
    "def merge_sort(array):\n",
    "    if len(array) <= 1:\n",
    "        return array\n",
    "\n",
    "    left = []\n",
    "    right []\n",
    "    middle = len(array)/2\n",
    "    for x in range(0,len(array)):\n",
    "        if x < middle:\n",
    "            left.append(array[x])\n",
    "\n",
    "        else:\n",
    "            right.append(array[x])\n",
    "\n",
    "    left = merge_sort(left)\n",
    "    right = merge_sort(right)\n",
    "\n",
    "    return merge(left,right)"
   ]
  }
 ],
 "metadata": {
  "kernelspec": {
   "display_name": "Python 3",
   "language": "python",
   "name": "python3"
  },
  "language_info": {
   "codemirror_mode": {
    "name": "ipython",
    "version": 3
   },
   "file_extension": ".py",
   "mimetype": "text/x-python",
   "name": "python",
   "nbconvert_exporter": "python",
   "pygments_lexer": "ipython3",
   "version": "3.6.3"
  }
 },
 "nbformat": 4,
 "nbformat_minor": 2
}
