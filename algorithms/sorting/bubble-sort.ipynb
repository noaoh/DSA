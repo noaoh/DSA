{
 "cells": [
  {
   "cell_type": "markdown",
   "metadata": {},
   "source": [
    "## Bubble Sort\n",
    "### Description\n",
    "Bubble sort is a simple sorting algorithm.  It works by comparing a pair of adjacent pairs and swaps them if they are in the wrong order. It repeatedly goes through the list, performing this operation, until it performs no swaps.  Since it often loops through the array multiple times, it is not an efficient algorithm.\n",
    "\n",
    "### Performance\n",
    "#### **Best-case performance:** O(n)\n",
    "#### **Average performance:** (O(n**2)\n",
    "#### **Worst-case performance:** O(n**2)\n",
    "#### **Memory:** O(1)\n",
    "\n",
    "### Usage\n",
    "Bubble Sort works well to check if an array is sorted. There is no other practical use for this algorithm."
   ]
  },
  {
   "cell_type": "code",
   "execution_count": 10,
   "metadata": {},
   "outputs": [],
   "source": [
    "import random\n",
    "import timeit\n",
    "\n",
    "def bubble_sort(array):\n",
    "    length = len(array)\n",
    "    sort = False\n",
    "    while not sort:\n",
    "        swapped = False\n",
    "        \n",
    "        #Starts at 1 because it compares the element before it\n",
    "        for x in range(1,length):\n",
    "            # if this pair is out of order\n",
    "            if array[x-1] > array[x]:\n",
    "                # swap them, and remember that they were swapped\n",
    "                array[x-1], array[x] = array[x], array[x-1]\n",
    "                swapped = True\n",
    "        \n",
    "        # if no pairs were swapped (False), the array was sorted (True)\n",
    "        sort = not swapped\n",
    "    return array"
   ]
  },
  {
   "cell_type": "code",
   "execution_count": 11,
   "metadata": {
    "scrolled": true
   },
   "outputs": [
    {
     "ename": "ValueError",
     "evalue": "stmt is neither a string nor callable",
     "output_type": "error",
     "traceback": [
      "\u001b[1;31m---------------------------------------------------------------------------\u001b[0m",
      "\u001b[1;31mValueError\u001b[0m                                Traceback (most recent call last)",
      "\u001b[1;32m<ipython-input-11-14f177d44abc>\u001b[0m in \u001b[0;36m<module>\u001b[1;34m()\u001b[0m\n\u001b[0;32m      2\u001b[0m \u001b[0mlst1\u001b[0m \u001b[1;33m=\u001b[0m \u001b[1;33m[\u001b[0m\u001b[1;33m*\u001b[0m\u001b[0mrange\u001b[0m\u001b[1;33m(\u001b[0m\u001b[1;36m1\u001b[0m\u001b[1;33m,\u001b[0m\u001b[1;36m21\u001b[0m\u001b[1;33m)\u001b[0m\u001b[1;33m]\u001b[0m\u001b[1;33m\u001b[0m\u001b[0m\n\u001b[0;32m      3\u001b[0m \u001b[1;31m#print(bubble_sort(lst1))\u001b[0m\u001b[1;33m\u001b[0m\u001b[1;33m\u001b[0m\u001b[0m\n\u001b[1;32m----> 4\u001b[1;33m \u001b[0mtimeit\u001b[0m\u001b[1;33m.\u001b[0m\u001b[0mtimeit\u001b[0m\u001b[1;33m(\u001b[0m\u001b[0mstmt\u001b[0m\u001b[1;33m=\u001b[0m\u001b[0mbubble_sort\u001b[0m\u001b[1;33m(\u001b[0m\u001b[0mlst1\u001b[0m\u001b[1;33m)\u001b[0m\u001b[1;33m)\u001b[0m\u001b[1;33m\u001b[0m\u001b[0m\n\u001b[0m\u001b[0;32m      5\u001b[0m \u001b[1;33m\u001b[0m\u001b[0m\n\u001b[0;32m      6\u001b[0m \u001b[1;31m# Average Scenario\u001b[0m\u001b[1;33m\u001b[0m\u001b[1;33m\u001b[0m\u001b[0m\n",
      "\u001b[1;32mc:\\python36\\lib\\timeit.py\u001b[0m in \u001b[0;36mtimeit\u001b[1;34m(stmt, setup, timer, number, globals)\u001b[0m\n\u001b[0;32m    231\u001b[0m            number=default_number, globals=None):\n\u001b[0;32m    232\u001b[0m     \u001b[1;34m\"\"\"Convenience function to create Timer object and call timeit method.\"\"\"\u001b[0m\u001b[1;33m\u001b[0m\u001b[0m\n\u001b[1;32m--> 233\u001b[1;33m     \u001b[1;32mreturn\u001b[0m \u001b[0mTimer\u001b[0m\u001b[1;33m(\u001b[0m\u001b[0mstmt\u001b[0m\u001b[1;33m,\u001b[0m \u001b[0msetup\u001b[0m\u001b[1;33m,\u001b[0m \u001b[0mtimer\u001b[0m\u001b[1;33m,\u001b[0m \u001b[0mglobals\u001b[0m\u001b[1;33m)\u001b[0m\u001b[1;33m.\u001b[0m\u001b[0mtimeit\u001b[0m\u001b[1;33m(\u001b[0m\u001b[0mnumber\u001b[0m\u001b[1;33m)\u001b[0m\u001b[1;33m\u001b[0m\u001b[0m\n\u001b[0m\u001b[0;32m    234\u001b[0m \u001b[1;33m\u001b[0m\u001b[0m\n\u001b[0;32m    235\u001b[0m def repeat(stmt=\"pass\", setup=\"pass\", timer=default_timer,\n",
      "\u001b[1;32mc:\\python36\\lib\\timeit.py\u001b[0m in \u001b[0;36m__init__\u001b[1;34m(self, stmt, setup, timer, globals)\u001b[0m\n\u001b[0;32m    128\u001b[0m             \u001b[0mstmt\u001b[0m \u001b[1;33m=\u001b[0m \u001b[1;34m'_stmt()'\u001b[0m\u001b[1;33m\u001b[0m\u001b[0m\n\u001b[0;32m    129\u001b[0m         \u001b[1;32melse\u001b[0m\u001b[1;33m:\u001b[0m\u001b[1;33m\u001b[0m\u001b[0m\n\u001b[1;32m--> 130\u001b[1;33m             \u001b[1;32mraise\u001b[0m \u001b[0mValueError\u001b[0m\u001b[1;33m(\u001b[0m\u001b[1;34m\"stmt is neither a string nor callable\"\u001b[0m\u001b[1;33m)\u001b[0m\u001b[1;33m\u001b[0m\u001b[0m\n\u001b[0m\u001b[0;32m    131\u001b[0m         \u001b[0msrc\u001b[0m \u001b[1;33m=\u001b[0m \u001b[0mtemplate\u001b[0m\u001b[1;33m.\u001b[0m\u001b[0mformat\u001b[0m\u001b[1;33m(\u001b[0m\u001b[0mstmt\u001b[0m\u001b[1;33m=\u001b[0m\u001b[0mstmt\u001b[0m\u001b[1;33m,\u001b[0m \u001b[0msetup\u001b[0m\u001b[1;33m=\u001b[0m\u001b[0msetup\u001b[0m\u001b[1;33m,\u001b[0m \u001b[0minit\u001b[0m\u001b[1;33m=\u001b[0m\u001b[0minit\u001b[0m\u001b[1;33m)\u001b[0m\u001b[1;33m\u001b[0m\u001b[0m\n\u001b[0;32m    132\u001b[0m         \u001b[0mself\u001b[0m\u001b[1;33m.\u001b[0m\u001b[0msrc\u001b[0m \u001b[1;33m=\u001b[0m \u001b[0msrc\u001b[0m  \u001b[1;31m# Save for traceback display\u001b[0m\u001b[1;33m\u001b[0m\u001b[0m\n",
      "\u001b[1;31mValueError\u001b[0m: stmt is neither a string nor callable"
     ]
    }
   ],
   "source": [
    "# Best Scenario\n",
    "lst1 = [*range(1,21)]\n",
    "print(bubble_sort(lst1))\n",
    "\n",
    "\n",
    "# Average Scenario\n",
    "lst2 = [*range(1,6)]\n",
    "random.shuffle(lst2)\n",
    "print(bubble_sort(lst2))\n",
    "\n",
    "# Worst Case Scenario\n",
    "lst3 = [*range(1,21)]\n",
    "random.shuffle(lst3)\n",
    "print(bubble_sort(lst3))"
   ]
  }
 ],
 "metadata": {
  "kernelspec": {
   "display_name": "Python 3",
   "language": "python",
   "name": "python3"
  },
  "language_info": {
   "codemirror_mode": {
    "name": "ipython",
    "version": 3
   },
   "file_extension": ".py",
   "mimetype": "text/x-python",
   "name": "python",
   "nbconvert_exporter": "python",
   "pygments_lexer": "ipython3",
   "version": "3.6.3"
  }
 },
 "nbformat": 4,
 "nbformat_minor": 2
}
